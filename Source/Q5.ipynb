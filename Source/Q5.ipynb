{
 "cells": [
  {
   "cell_type": "code",
   "execution_count": 1,
   "metadata": {},
   "outputs": [],
   "source": [
    "# !conda install lightgbm"
   ]
  },
  {
   "cell_type": "code",
   "execution_count": 25,
   "metadata": {},
   "outputs": [],
   "source": [
    "import json\n",
    "\n",
    "import numpy as np\n",
    "import pandas as pd\n",
    "import matplotlib.pyplot as plt\n",
    "import joblib\n",
    "\n",
    "from sklearn.pipeline import Pipeline\n",
    "from sklearn.compose import ColumnTransformer\n",
    "from sklearn.impute import SimpleImputer, KNNImputer\n",
    "from sklearn.preprocessing import OneHotEncoder\n",
    "from sklearn.model_selection import GridSearchCV, KFold, train_test_split\n",
    "\n",
    "from lightgbm import LGBMClassifier\n",
    "\n",
    "random_state = 1"
   ]
  },
  {
   "cell_type": "code",
   "execution_count": 2,
   "metadata": {},
   "outputs": [],
   "source": [
    "df = pd.read_csv('../Data/crime_data_cleaned.csv')"
   ]
  },
  {
   "cell_type": "code",
   "execution_count": 3,
   "metadata": {},
   "outputs": [],
   "source": [
    "df['datetime_occ'] = df['datetime_occ'].apply(pd.to_datetime)"
   ]
  },
  {
   "cell_type": "code",
   "execution_count": 4,
   "metadata": {},
   "outputs": [],
   "source": [
    "with open('../Data/crime_types.json') as f:\n",
    "  crime_dict = json.load(f)\n",
    "\n",
    "def replace(value):\n",
    "  for key, val in crime_dict.items():\n",
    "    if value in val:\n",
    "      return key\n",
    "  return np.nan"
   ]
  },
  {
   "cell_type": "code",
   "execution_count": 5,
   "metadata": {},
   "outputs": [],
   "source": [
    "df['crm_cd_desc'] = df['crm_cd_desc'].apply(lambda x: replace(x))"
   ]
  },
  {
   "cell_type": "code",
   "execution_count": 6,
   "metadata": {},
   "outputs": [],
   "source": [
    "features = ['area_name', 'vict_age', 'vict_sex', 'vict_descent', 'lat', 'lon', 'datetime_occ']\n",
    "target = 'crm_cd_desc'\n",
    "\n",
    "df = df[df['datetime_occ'].dt.year != 2023]"
   ]
  },
  {
   "cell_type": "markdown",
   "metadata": {},
   "source": [
    "## If you were in Los Angeles, which crime would you encounter under a specific condition?"
   ]
  },
  {
   "cell_type": "markdown",
   "metadata": {},
   "source": [
    "We have trained a `LGBMClassifier` model to predict the type of crime that might occur in Los Angeles under specific conditions. The model considers various factors, including location, victim demographics, and time of day.\n",
    "The accuracy is about `0.79` (custom accuracy metric)."
   ]
  },
  {
   "cell_type": "markdown",
   "metadata": {},
   "source": [
    "### Features and Target"
   ]
  },
  {
   "cell_type": "markdown",
   "metadata": {},
   "source": [
    "The model utilizes the following features to make predictions:\n",
    "\n",
    "- `area_name`: The name of the area where the crime occurred.\n",
    "- `vict_age`: The age of the victim.\n",
    "- `vict_sex`: The sex of the victim.\n",
    "- `vict_descent`: The descent of the victim.\n",
    "- `lat`: The latitude of the crime location.\n",
    "- `lon`: The longitude of the crime location.\n",
    "- `datetime_occ`: The date and time of the crime.\n",
    "\n",
    "The `datetime_occ` column will be split into `year`, `month`, `day`, and `hour` columns, and then it will be dropped.\n",
    "\n",
    "The model aims to predict the `crm_cd_desc`, which is a description of the crime code."
   ]
  },
  {
   "cell_type": "markdown",
   "metadata": {},
   "source": [
    "### Model Training"
   ]
  },
  {
   "cell_type": "markdown",
   "metadata": {},
   "source": [
    "A brief of training process we have done."
   ]
  },
  {
   "cell_type": "markdown",
   "metadata": {},
   "source": [
    "**Pipeline**\n",
    "\n",
    "Creates a pipeline for data preprocessing and model fitting:\n",
    "- Imputes missing categorical values with the most frequent values and encodes them using one-hot encoding.\n",
    "- Imputes missing numerical values using KNNImputer.\n",
    "- Uses LGBMClassifier as the model.\n",
    "\n",
    "**Grid Search**\n",
    "\n",
    "- Performs hyperparameter tuning using GridSearchCV to find the best model configuration.\n",
    "\n",
    "**Final Model Training**\n",
    "\n",
    "- Trains the model with the best hyperparameters on the entire training set.\n",
    "\n",
    "**Evaluation**\n",
    "\n",
    "- Defines a custom top-n accuracy metric.\n",
    "- Evaluates model performance on the test set using this metric.\n",
    "\n",
    "**Model Saving**\n",
    "\n",
    "- Saves the trained model to a file named 'model.joblib'."
   ]
  },
  {
   "cell_type": "markdown",
   "metadata": {},
   "source": [
    "### Making a Prediction"
   ]
  },
  {
   "cell_type": "markdown",
   "metadata": {},
   "source": [
    "We will select a sample from data set then"
   ]
  },
  {
   "cell_type": "code",
   "execution_count": 11,
   "metadata": {},
   "outputs": [],
   "source": [
    "df.columns = ['Date Rptd', 'AREA NAME', 'Rpt Dist No', 'Part 1-2', 'Crm Cd', 'Crm Cd Desc', 'Mocodes', 'Vict Age', 'Vict Sex', 'Vict Descent', 'Premis Desc', 'Weapon Desc', 'Status Desc', 'Crm Cd 1', 'LOCATION', 'LAT', 'LON', 'Datetime OCC']\n",
    "features = ['AREA NAME', 'Vict Age', 'Vict Sex', 'Vict Descent', 'LAT', 'LON', 'Datetime OCC']\n",
    "target = 'Crm Cd Desc'"
   ]
  },
  {
   "cell_type": "code",
   "execution_count": 18,
   "metadata": {},
   "outputs": [],
   "source": [
    "X = df[features].copy()\n",
    "y = df[target].copy()\n",
    "\n",
    "# X['year'] = X['datetime_occ'].dt.year\n",
    "# X['month'] = X['datetime_occ'].dt.month\n",
    "# X['day'] = X['datetime_occ'].dt.day\n",
    "# X['hour'] = X['datetime_occ'].dt.hour\n",
    "\n",
    "X['Year'] = X['Datetime OCC'].dt.year\n",
    "X['Month'] = X['Datetime OCC'].dt.month\n",
    "X['Day'] = X['Datetime OCC'].dt.day\n",
    "X['Hour'] = X['Datetime OCC'].dt.hour\n",
    "\n",
    "X = X.drop(columns=['Datetime OCC'])"
   ]
  },
  {
   "cell_type": "code",
   "execution_count": 19,
   "metadata": {},
   "outputs": [],
   "source": [
    "X_sample = X.sample(1)\n",
    "y_sample = y[X_sample.index]\n",
    "y_sample"
   ]
  },
  {
   "cell_type": "code",
   "execution_count": null,
   "metadata": {},
   "outputs": [],
   "source": [
    "model = joblib.load('../Model/model.joblib')\n",
    "model"
   ]
  },
  {
   "cell_type": "code",
   "execution_count": null,
   "metadata": {},
   "outputs": [],
   "source": [
    "prediction = model.predict_proba(X_sample)"
   ]
  },
  {
   "cell_type": "code",
   "execution_count": null,
   "metadata": {},
   "outputs": [],
   "source": [
    "pd.DataFrame(prediction[0], index = model.classes_).sort_values(by = 0, ascending = False)"
   ]
  }
 ],
 "metadata": {
  "kernelspec": {
   "display_name": "min_ds-env",
   "language": "python",
   "name": "python3"
  },
  "language_info": {
   "codemirror_mode": {
    "name": "ipython",
    "version": 3
   },
   "file_extension": ".py",
   "mimetype": "text/x-python",
   "name": "python",
   "nbconvert_exporter": "python",
   "pygments_lexer": "ipython3",
   "version": "3.10.8"
  }
 },
 "nbformat": 4,
 "nbformat_minor": 2
}
